{
 "cells": [
  {
   "cell_type": "code",
   "execution_count": 2,
   "metadata": {},
   "outputs": [],
   "source": [
    "import numpy as np\n",
    "import cv2\n",
    "from PIL import Image\n",
    "from PIL import ImageEnhance\n",
    "import cv2 as cv\n",
    "import matplotlib.pyplot as plt"
   ]
  },
  {
   "cell_type": "code",
   "execution_count": 3,
   "metadata": {},
   "outputs": [],
   "source": [
    "import matplotlib.pyplot as plt"
   ]
  },
  {
   "attachments": {},
   "cell_type": "markdown",
   "metadata": {},
   "source": [
    "**I.Adjust Brightness**"
   ]
  },
  {
   "attachments": {},
   "cell_type": "markdown",
   "metadata": {},
   "source": [
    "1.opencv code chay"
   ]
  },
  {
   "cell_type": "code",
   "execution_count": 6,
   "metadata": {},
   "outputs": [],
   "source": [
    "def adjust_brightness(img, value=30):\n",
    "    b, g, r = cv.split(img)\n",
    "    if value < 0:\n",
    "        lim = 0 + abs(value)\n",
    "        b[b < lim] = 0\n",
    "        b[b >= lim] -= abs(value)\n",
    "        g[g < lim] = 0\n",
    "        g[g >= lim] -= abs(value)\n",
    "        r[r < lim] = 0\n",
    "        r[r >= lim] -= abs(value)\n",
    "    \n",
    "    elif value > 0:\n",
    "        lim = 255 - value\n",
    "        b[b > lim] = 255\n",
    "        b[b <= lim] += value\n",
    "        g[g > lim] = 255\n",
    "        g[g <= lim] += value\n",
    "        r[r > lim] = 255\n",
    "        r[r <= lim] += value\n",
    "    \n",
    "    final_img = cv.merge((b, g, r))\n",
    "    return final_img"
   ]
  },
  {
   "cell_type": "code",
   "execution_count": 38,
   "metadata": {},
   "outputs": [],
   "source": [
    "img1 = cv.imread(\"image.png\")"
   ]
  },
  {
   "cell_type": "code",
   "execution_count": 12,
   "metadata": {},
   "outputs": [],
   "source": [
    "img_bright = adjust_brightness(img1, 50)"
   ]
  },
  {
   "cell_type": "code",
   "execution_count": 13,
   "metadata": {},
   "outputs": [],
   "source": [
    "cv.imshow(\"window\", img_bright)\n",
    "cv.waitKey(0)\n",
    "cv.destroyAllWindows()"
   ]
  },
  {
   "attachments": {},
   "cell_type": "markdown",
   "metadata": {},
   "source": [
    "2.Pillow code chay"
   ]
  },
  {
   "cell_type": "code",
   "execution_count": 27,
   "metadata": {},
   "outputs": [],
   "source": [
    "img2 = Image.open(\"anhcmt.jpg\")"
   ]
  },
  {
   "cell_type": "code",
   "execution_count": 28,
   "metadata": {},
   "outputs": [],
   "source": [
    "def adjust_value(val):\n",
    "    if val < 0:\n",
    "        return 0\n",
    "    if val > 255:\n",
    "        return 255\n",
    "    return val"
   ]
  },
  {
   "cell_type": "code",
   "execution_count": 29,
   "metadata": {},
   "outputs": [],
   "source": [
    "#Code phù hợp với ảnh có mode là \"RGB\"\n",
    "def change_brightness(imgs, bright_val):\n",
    "    mat_px = imgs.load()\n",
    "    img_new = Image.new(imgs.mode, imgs.size)\n",
    "    mat_pxnew = img_new.load()\n",
    "    for i in range(img_new.size[0]):\n",
    "        for j in range(img_new.size[1]):\n",
    "            r, b, g = mat_px[i, j]\n",
    "            _r = adjust_value(r + bright_val)\n",
    "            _b = adjust_value(b + bright_val)\n",
    "            _g = adjust_value(g + bright_val)\n",
    "            mat_pxnew[i, j] = (_r, _b, _g, 255)\n",
    "    return img_new"
   ]
  },
  {
   "cell_type": "code",
   "execution_count": 32,
   "metadata": {},
   "outputs": [],
   "source": [
    "brighter = change_brightness(img2, 100)"
   ]
  },
  {
   "cell_type": "code",
   "execution_count": 33,
   "metadata": {},
   "outputs": [],
   "source": [
    "brighter.show()"
   ]
  },
  {
   "attachments": {},
   "cell_type": "markdown",
   "metadata": {},
   "source": [
    "3.PILLow thu vien"
   ]
  },
  {
   "cell_type": "code",
   "execution_count": 35,
   "metadata": {},
   "outputs": [],
   "source": [
    "img3 = Image.open(\"image.png\")"
   ]
  },
  {
   "cell_type": "code",
   "execution_count": 37,
   "metadata": {},
   "outputs": [],
   "source": [
    "img_brighter = ImageEnhance.Brightness(img3)\n",
    "img_brighter.enhance(3).show()"
   ]
  },
  {
   "attachments": {},
   "cell_type": "markdown",
   "metadata": {},
   "source": [
    "**II.Adjust contrast**"
   ]
  },
  {
   "attachments": {},
   "cell_type": "markdown",
   "metadata": {},
   "source": [
    "1.Opencv codechay(code này có thể là tăng độ sáng, chưa chắc chắn)"
   ]
  },
  {
   "cell_type": "code",
   "execution_count": 43,
   "metadata": {},
   "outputs": [],
   "source": [
    "img4 = cv.imread(\"image.png\")"
   ]
  },
  {
   "cell_type": "code",
   "execution_count": 44,
   "metadata": {},
   "outputs": [],
   "source": [
    "img_contrast = cv.addWeighted(img4, 2, np.zeros(img4.shape, img4.dtype), 0, 0)\n",
    "cv.imshow(\"window\", img_contrast)\n",
    "cv.waitKey(0)\n",
    "cv.destroyAllWindows()"
   ]
  },
  {
   "attachments": {},
   "cell_type": "markdown",
   "metadata": {},
   "source": [
    "2.Opencv thu vien(Điều chỉnh cân bằng độ tương phản, sử dụng cho hình ảnh xám)"
   ]
  },
  {
   "cell_type": "code",
   "execution_count": 3,
   "metadata": {},
   "outputs": [],
   "source": [
    "img4_1 = cv.imread(\"image.png\")"
   ]
  },
  {
   "cell_type": "code",
   "execution_count": 5,
   "metadata": {},
   "outputs": [],
   "source": [
    "img_gray = cv.cvtColor(img4_1, cv.COLOR_BGR2GRAY)\n",
    "equa = cv.equalizeHist(img_gray)\n",
    "img_merge = np.hstack((img_gray, equa))\n",
    "cv.imshow(\"window\", img_merge)\n",
    "cv.waitKey(0)\n",
    "cv.destroyAllWindows()"
   ]
  },
  {
   "attachments": {},
   "cell_type": "markdown",
   "metadata": {},
   "source": [
    "3.opencv codechay2(Dùng histogram của ảnh xám và phân bố lại histogram để tăng độ tương phản)"
   ]
  },
  {
   "cell_type": "code",
   "execution_count": 2,
   "metadata": {},
   "outputs": [],
   "source": [
    "img4_2 = cv.imread(\"image.png\")"
   ]
  },
  {
   "cell_type": "code",
   "execution_count": 3,
   "metadata": {},
   "outputs": [],
   "source": [
    "img4_2gray = cv.cvtColor(img4_2, cv.COLOR_BGR2GRAY)"
   ]
  },
  {
   "cell_type": "code",
   "execution_count": 6,
   "metadata": {},
   "outputs": [],
   "source": [
    "#công thức: s = (p - min) / (max - min) * (L - 1)\n",
    "#Với p là giá trị của từng pixel trong ảnh xám(ảnh xám là ma trận 2 chiều)\n",
    "#min là giá trị nhỏ nhất trong ảnh xám, max là giá trị cao nhất trong ảnh xam\n",
    "#L = 255\n",
    "def contrast_stretching(img):\n",
    "    min_val = np.min(img)\n",
    "    max_val = np.max(img)\n",
    "    matric = np.zeros((img.shape[0], img.shape[1]))\n",
    "    for i in range(img.shape[0]):\n",
    "        for j in range(img.shape[1]):\n",
    "            matric[i, j] = int(((img[i, j] - min_val) / (max_val - min_val)) * (255 - 1))\n",
    "    matric = matric.astype(np.uint8)\n",
    "    return matric"
   ]
  },
  {
   "cell_type": "code",
   "execution_count": 9,
   "metadata": {},
   "outputs": [],
   "source": [
    "cv.imshow(\"gray\", img4_2gray)\n",
    "cv.waitKey(0)\n",
    "cv.destroyAllWindows()"
   ]
  },
  {
   "cell_type": "code",
   "execution_count": 11,
   "metadata": {},
   "outputs": [
    {
     "data": {
      "image/png": "[encoded data removed]",
      "text/plain": [
       "<Figure size 640x480 with 1 Axes>"
      ]
     },
     "metadata": {},
     "output_type": "display_data"
    }
   ],
   "source": [
    "plt.hist(img4_2gray.ravel(), 256, [0,256])\n",
    "plt.show()"
   ]
  },
  {
   "cell_type": "code",
   "execution_count": 8,
   "metadata": {},
   "outputs": [],
   "source": [
    "img_contraster = contrast_stretching(img4_2gray)\n",
    "cv.imshow(\"contrast stretching\", img_contraster)\n",
    "cv.waitKey(0)\n",
    "cv.destroyAllWindows()"
   ]
  },
  {
   "cell_type": "code",
   "execution_count": 12,
   "metadata": {},
   "outputs": [
    {
     "data": {
      "image/png": "[encoded data removed]",
      "text/plain": [
       "<Figure size 640x480 with 1 Axes>"
      ]
     },
     "metadata": {},
     "output_type": "display_data"
    }
   ],
   "source": [
    "plt.hist(img_contraster.ravel(), 256, [0,256])\n",
    "plt.show()"
   ]
  },
  {
   "attachments": {},
   "cell_type": "markdown",
   "metadata": {},
   "source": [
    "4.Pillow thu vien"
   ]
  },
  {
   "cell_type": "code",
   "execution_count": 40,
   "metadata": {},
   "outputs": [],
   "source": [
    "img5 = Image.open(\"image.png\")"
   ]
  },
  {
   "cell_type": "code",
   "execution_count": 42,
   "metadata": {},
   "outputs": [],
   "source": [
    "enhancer = ImageEnhance.Contrast(img5)\n",
    "new_img = enhancer.enhance(2.5)\n",
    "new_img.show()"
   ]
  },
  {
   "attachments": {},
   "cell_type": "markdown",
   "metadata": {},
   "source": [
    "**III.Adjust sharpness**"
   ]
  },
  {
   "attachments": {},
   "cell_type": "markdown",
   "metadata": {},
   "source": [
    "1.PILLow thu vien"
   ]
  },
  {
   "cell_type": "code",
   "execution_count": 45,
   "metadata": {},
   "outputs": [],
   "source": [
    "img6 = Image.open(\"image.png\")"
   ]
  },
  {
   "cell_type": "code",
   "execution_count": 47,
   "metadata": {},
   "outputs": [],
   "source": [
    "enhancer = ImageEnhance.Sharpness(img6)\n",
    "new_img1 = enhancer.enhance(3)\n",
    "new_img1.show()"
   ]
  },
  {
   "attachments": {},
   "cell_type": "markdown",
   "metadata": {},
   "source": [
    "**IV.Adjust color**"
   ]
  },
  {
   "cell_type": "code",
   "execution_count": 48,
   "metadata": {},
   "outputs": [],
   "source": [
    "img7 = Image.open(\"image.png\")"
   ]
  },
  {
   "cell_type": "code",
   "execution_count": 49,
   "metadata": {},
   "outputs": [],
   "source": [
    "enhancer = ImageEnhance.Color(img7)\n",
    "new_img2 = enhancer.enhance(2)\n",
    "new_img2.show()"
   ]
  },
  {
   "attachments": {},
   "cell_type": "markdown",
   "metadata": {},
   "source": [
    "**V.Convert from color image to grayscale**"
   ]
  },
  {
   "attachments": {},
   "cell_type": "markdown",
   "metadata": {},
   "source": [
    "1.Opencv code chay"
   ]
  },
  {
   "cell_type": "code",
   "execution_count": 50,
   "metadata": {},
   "outputs": [],
   "source": [
    "img8 = cv.imread(\"image.png\")"
   ]
  },
  {
   "cell_type": "code",
   "execution_count": 52,
   "metadata": {},
   "outputs": [],
   "source": [
    "h, w = img8.shape[0:2]\n",
    "for i in range(h):\n",
    "    for j in range(w):\n",
    "        img8[i, j] = sum(img8[i, j]) / 3\n",
    "cv.imshow(\"window\", img8)\n",
    "cv.waitKey(0)\n",
    "cv.destroyAllWindows()"
   ]
  },
  {
   "attachments": {},
   "cell_type": "markdown",
   "metadata": {},
   "source": [
    "2.Opencv thu vien"
   ]
  },
  {
   "cell_type": "code",
   "execution_count": 53,
   "metadata": {},
   "outputs": [],
   "source": [
    "img9 = cv.imread(\"image.png\")"
   ]
  },
  {
   "cell_type": "code",
   "execution_count": 54,
   "metadata": {},
   "outputs": [],
   "source": [
    "gray_img = cv.cvtColor(img9, cv.COLOR_BGR2GRAY)\n",
    "cv.imshow(\"window\", gray_img)\n",
    "cv.waitKey(0)\n",
    "cv.destroyAllWindows()"
   ]
  },
  {
   "attachments": {},
   "cell_type": "markdown",
   "metadata": {},
   "source": [
    "3.PILLOW code chay(Phù hợp với ảnh có mode là \"RGB\")"
   ]
  },
  {
   "cell_type": "code",
   "execution_count": 57,
   "metadata": {},
   "outputs": [],
   "source": [
    "img10 = Image.open(\"anhcmt.jpg\")"
   ]
  },
  {
   "cell_type": "code",
   "execution_count": 58,
   "metadata": {},
   "outputs": [],
   "source": [
    "pixel = img10.load()\n",
    "new_img = Image.new(img10.mode, img10.size)\n",
    "new_pixel = new_img.load()\n",
    "for i in range(new_img.size[0]):\n",
    "    for j in range(new_img.size[1]):\n",
    "        r, b, g = pixel[i, j]\n",
    "        avg = int(round((r + b + g) / 3))\n",
    "        new_pixel[i, j] = (avg, avg, avg, 0)\n",
    "new_img.show()"
   ]
  },
  {
   "attachments": {},
   "cell_type": "markdown",
   "metadata": {},
   "source": [
    "4.PILLOW thu vien"
   ]
  },
  {
   "cell_type": "code",
   "execution_count": 59,
   "metadata": {},
   "outputs": [],
   "source": [
    "img11 = Image.open(\"image.png\")"
   ]
  },
  {
   "cell_type": "code",
   "execution_count": 60,
   "metadata": {},
   "outputs": [],
   "source": [
    "gray_img = img11.convert(\"L\")\n",
    "gray_img.show()"
   ]
  },
  {
   "attachments": {},
   "cell_type": "markdown",
   "metadata": {},
   "source": [
    "**VI.Create border**"
   ]
  },
  {
   "attachments": {},
   "cell_type": "markdown",
   "metadata": {},
   "source": [
    "1.Opencv thu vien"
   ]
  },
  {
   "cell_type": "code",
   "execution_count": 17,
   "metadata": {},
   "outputs": [],
   "source": [
    "img12 = cv.imread(\"image.png\")"
   ]
  },
  {
   "cell_type": "code",
   "execution_count": 18,
   "metadata": {},
   "outputs": [],
   "source": [
    "img_border = cv.copyMakeBorder(img12, 10, 10, 10, 10, cv.BORDER_CONSTANT, value = 50)\n",
    "cv.imshow(\"window\", img_border)\n",
    "cv.waitKey(0)\n",
    "cv.destroyAllWindows()"
   ]
  },
  {
   "attachments": {},
   "cell_type": "markdown",
   "metadata": {},
   "source": [
    "**IX.Threshoding**"
   ]
  },
  {
   "attachments": {},
   "cell_type": "markdown",
   "metadata": {},
   "source": [
    "1.Opencv thu vien"
   ]
  },
  {
   "cell_type": "code",
   "execution_count": 2,
   "metadata": {},
   "outputs": [],
   "source": [
    "img15 = cv.imread(\"image.png\")"
   ]
  },
  {
   "cell_type": "code",
   "execution_count": 4,
   "metadata": {},
   "outputs": [],
   "source": [
    "img_gray1 = cv.cvtColor(img15, cv.COLOR_BGR2GRAY)\n",
    "ret, thresh = cv.threshold(img_gray1, 120, 255, cv.THRESH_BINARY)\n",
    "cv.imshow(\"window\", thresh)\n",
    "cv.waitKey(0)\n",
    "cv.destroyAllWindows()"
   ]
  },
  {
   "attachments": {},
   "cell_type": "markdown",
   "metadata": {},
   "source": [
    "4.Crop Image"
   ]
  },
  {
   "cell_type": "code",
   "execution_count": 10,
   "metadata": {},
   "outputs": [
    {
     "data": {
      "text/plain": [
       "(223, 297, 3)"
      ]
     },
     "execution_count": 10,
     "metadata": {},
     "output_type": "execute_result"
    }
   ],
   "source": [
    "img_crop = cv2.imread(\"anh_data/image.png\")\n",
    "img_crop.shape"
   ]
  },
  {
   "cell_type": "code",
   "execution_count": 11,
   "metadata": {},
   "outputs": [],
   "source": [
    "crop = img_crop[:150, :200]\n",
    "cv2.imshow(\"Original\", img_crop)\n",
    "cv2.imshow(\"Crop Image\", crop)\n",
    "cv2.waitKey(0)\n",
    "cv2.destroyAllWindows()"
   ]
  }
 ],
 "metadata": {
  "kernelspec": {
   "display_name": "Python 3",
   "language": "python",
   "name": "python3"
  },
  "language_info": {
   "codemirror_mode": {
    "name": "ipython",
    "version": 3
   },
   "file_extension": ".py",
   "mimetype": "text/x-python",
   "name": "python",
   "nbconvert_exporter": "python",
   "pygments_lexer": "ipython3",
   "version": "3.10.6"
  },
  "orig_nbformat": 4,
  "vscode": {
   "interpreter": {
    "hash": "76d7c06053c3456e5600312cec90888656fc0ed30c03d8425b9dac6e4fc8e014"
   }
  }
 },
 "nbformat": 4,
 "nbformat_minor": 2
}
